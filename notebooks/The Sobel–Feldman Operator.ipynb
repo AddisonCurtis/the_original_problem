{
 "cells": [
  {
   "cell_type": "markdown",
   "metadata": {},
   "source": [
    "# **The Sobel–Feldman Operator**"
   ]
  },
  {
   "cell_type": "markdown",
   "metadata": {},
   "source": [
    "**Recommended Reading/Viewing:**\n",
    "\n",
    "1. [Finding the Edges (Sobel Operator) - Computerphile](https://youtu.be/uihBwtPIBxM)\n",
    "\n",
    "**Additional Reading**\n",
    "1. The History and Definition of the Sobel Operator - Irwin Sobel. In \"papers\" directory of this Repo.\n",
    "\n",
    "Recommended [Jupyter Theme](https://github.com/dunovank/jupyter-themes) for presenting this notebook:\n",
    "````\n",
    "jt -t grade3 -cellw=90% -fs=20 -tfs=20 -ofs=20\n",
    "````"
   ]
  },
  {
   "cell_type": "markdown",
   "metadata": {},
   "source": [
    "![](../graphics/sobel_and_feldman-01.png)"
   ]
  },
  {
   "cell_type": "markdown",
   "metadata": {},
   "source": [
    "- A couple years after the MIT summer project, in 1968, two graduate students at Stanford Artificial Intelligence Labs (SAIL) gave a talk: **\"A 3x3 Isotropic Gradient Operator for Image Processing\"**\n",
    "- The excerpt above is from a write-up from Irwin Sobel much later (It's in the papers directory of this repo), I think the phrase \n",
    "\n",
    ">\"**the** major peice of published work on computer vision was...\" \n",
    "\n",
    "is pretty remarkable!\n",
    "- Sobel and Feldman presented a simple gradent operator as an alternative to Robert's cross that is still quite popular today. \n",
    "- One reason the the Sobel-Feldman operator caught no so quickly and remains in favor today is becuase of just who was in the audience of this presentation."
   ]
  },
  {
   "cell_type": "markdown",
   "metadata": {},
   "source": [
    "![](../graphics/sobel_audience-01.png)"
   ]
  },
  {
   "cell_type": "markdown",
   "metadata": {
    "collapsed": true
   },
   "source": [
    "- The small audence that attended Sobel and Feldman's talk included Aurthur Samuel, who coined the term \"machine learning\", and John McCarthy who coined the term \"Artificial Intelligence\"!\n",
    "- Also in attendence was Raj Reddy, an incredibly prolific computer scientist, who was at the time teaching one of the first computer vision courses!\n",
    "- Raj Reddy quickly adoped the name **\"Sobel Operator\"** in his course, and the technique and name picked up from there.\n",
    "- Just as Raj Reddy did 50 years ago, let's dig into the Sobel operator, and see if it can be of use to us. \n",
    "- Let's quickly review the issues we came across with Robert's cross, and dive into the **Sobel-Feldman Operator.**"
   ]
  },
  {
   "cell_type": "markdown",
   "metadata": {
    "collapsed": true
   },
   "source": [
    "### **Problems with our implementation of Robert's Cross**"
   ]
  },
  {
   "cell_type": "markdown",
   "metadata": {
    "collapsed": true
   },
   "source": [
    "1. **Noisy** - Robert's Cross is quite susceptible to noise.\n",
    "2. **Anisotropic** - doesn't respond as strongly to slanted edges. \n",
    "3. **Slow** as we've implemented it here.\n",
    "4. **No Direction** - as we've implemented Robert's Cross here, we only learn about the **magnitude** of our esimate of the image intensity derivative, not its **direction.** "
   ]
  },
  {
   "cell_type": "markdown",
   "metadata": {
    "collapsed": true
   },
   "source": [
    "### **Let's get it**\n",
    "- We made some progress on problem (1) in the Image Filtering notebook. \n",
    "- Let's see if the Sobel-Feldman operator can help us with our other problems.\n",
    "- The Sobel-Feldman operator uses 2 (3x3) kernels to calculate approximations of the horizontal and vertical derivatives of our image:"
   ]
  },
  {
   "cell_type": "markdown",
   "metadata": {
    "collapsed": true
   },
   "source": [
    "$$\n",
    "\\mathbf{K}_x = \\begin{bmatrix} \n",
    " +1 & 0 & -1  \\\\\n",
    "+2 & 0 & -2 \\\\\n",
    "+1 & 0 & -1 \n",
    "\\end{bmatrix} \n",
    "\\quad\n",
    "\\quad   \n",
    "\\mathbf{K}_y = \\begin{bmatrix} \n",
    " +1 & +2 & +1\\\\\n",
    " 0 & 0 & 0 \\\\\n",
    "-1 & -2 & -1\n",
    "\\end{bmatrix}\n",
    "$$"
   ]
  },
  {
   "cell_type": "markdown",
   "metadata": {},
   "source": [
    "- Let's give some thought to how these kernels work, and then code them up!"
   ]
  },
  {
   "cell_type": "code",
   "execution_count": null,
   "metadata": {
    "collapsed": true
   },
   "outputs": [],
   "source": []
  },
  {
   "cell_type": "code",
   "execution_count": null,
   "metadata": {
    "collapsed": true
   },
   "outputs": [],
   "source": []
  },
  {
   "cell_type": "code",
   "execution_count": null,
   "metadata": {
    "collapsed": true
   },
   "outputs": [],
   "source": []
  },
  {
   "cell_type": "code",
   "execution_count": null,
   "metadata": {
    "collapsed": true
   },
   "outputs": [],
   "source": []
  },
  {
   "cell_type": "code",
   "execution_count": null,
   "metadata": {
    "collapsed": true
   },
   "outputs": [],
   "source": []
  },
  {
   "cell_type": "code",
   "execution_count": null,
   "metadata": {
    "collapsed": true
   },
   "outputs": [],
   "source": []
  },
  {
   "cell_type": "code",
   "execution_count": null,
   "metadata": {
    "collapsed": true
   },
   "outputs": [],
   "source": []
  },
  {
   "cell_type": "code",
   "execution_count": 3,
   "metadata": {
    "collapsed": true
   },
   "outputs": [],
   "source": [
    "#(Optional) Download data + videos if you don't have them.\n",
    "import os, sys\n",
    "sys.path.append('..')\n",
    "from util.get_and_unpack import get_and_unpack\n",
    "\n",
    "if not os.path.isdir('../data/'):\n",
    "    url = 'http://www.welchlabs.io/unccv/the_original_problem/data/data.zip'\n",
    "    get_and_unpack(url)\n",
    "    \n",
    "if not os.path.isdir('../videos/'):\n",
    "    url = 'http://www.welchlabs.io/unccv/the_original_problem/videos.zip'\n",
    "    get_and_unpack(url)   "
   ]
  },
  {
   "cell_type": "code",
   "execution_count": null,
   "metadata": {
    "collapsed": true
   },
   "outputs": [],
   "source": []
  }
 ],
 "metadata": {
  "kernelspec": {
   "display_name": "Python 3",
   "language": "python",
   "name": "python3"
  },
  "language_info": {
   "codemirror_mode": {
    "name": "ipython",
    "version": 3
   },
   "file_extension": ".py",
   "mimetype": "text/x-python",
   "name": "python",
   "nbconvert_exporter": "python",
   "pygments_lexer": "ipython3",
   "version": "3.6.3"
  }
 },
 "nbformat": 4,
 "nbformat_minor": 2
}

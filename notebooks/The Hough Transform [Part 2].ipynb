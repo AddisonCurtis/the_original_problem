{
 "cells": [
  {
   "cell_type": "markdown",
   "metadata": {},
   "source": [
    "# **The Hough Transform [Part 2]**"
   ]
  },
  {
   "cell_type": "markdown",
   "metadata": {},
   "source": [
    "**Recommended Reading/Viewing:**\n",
    "\n",
    "1. [How the Hough Transform was Invented](http://www.rci.rutgers.edu/~shunsun/resource/Hough_Transform.pdf)\n",
    "\n",
    "**Additional Reading**\n",
    "1. Placeholder\n",
    "\n",
    "**Recommended [Jupyter Theme](https://github.com/dunovank/jupyter-themes) for presenting this notebook:**\n",
    "````\n",
    "jt -t grade3 -cellw=90% -fs=20 -tfs=20 -ofs=20\n",
    "````"
   ]
  },
  {
   "cell_type": "markdown",
   "metadata": {},
   "source": [
    "---"
   ]
  },
  {
   "cell_type": "markdown",
   "metadata": {},
   "source": [
    "Last time we left off with two questions:"
   ]
  },
  {
   "cell_type": "markdown",
   "metadata": {},
   "source": [
    "![](../videos/hough_two.gif)"
   ]
  },
  {
   "cell_type": "markdown",
   "metadata": {},
   "source": [
    "## 1. How can we use the Hough Transform to **efficiently** find **noisy** colinear points?\n",
    "## 2. How might we modify the Hough Transform to avoid having intersection points at $\\infty$?"
   ]
  },
  {
   "cell_type": "markdown",
   "metadata": {},
   "source": [
    "![](../graphics/spacer_small.png)"
   ]
  },
  {
   "cell_type": "markdown",
   "metadata": {},
   "source": [
    "- To anwers these questions, we need to visit SRI (Stanford Research Institute) in the late 1960s. \n",
    "- This was an interesting time at SRI. Researchers were building the **world's first mobile robot,** [**Shakey**](https://www.youtube.com/watch?v=GmU7SimFkpU)."
   ]
  },
  {
   "cell_type": "markdown",
   "metadata": {},
   "source": [
    "![](../videos/shakey_1.gif)"
   ]
  },
  {
   "cell_type": "markdown",
   "metadata": {},
   "source": [
    "- One of the many problems SRI researchers faced in developing Shakey was creating a vision system that would allow Shakey to interpet the \"Blocks World\" he operated in."
   ]
  },
  {
   "cell_type": "markdown",
   "metadata": {},
   "source": [
    "![](../videos/shakey_2.gif)"
   ]
  },
  {
   "cell_type": "markdown",
   "metadata": {},
   "source": [
    "- SRI Researchers **Peter E. Hart** and **Richard O. Duda** were looking for an efficient and reliable method for detecting lines in images. \n",
    "- Hart + Duda likely used **Robert's Cross** or the **Sobel-Feldman Operator** to find edge pixels in images. \n",
    "- They were then trying to use these images to \"build a model of the local environment and to update the position of the robot from identificaion of known landmarks.\""
   ]
  },
  {
   "cell_type": "markdown",
   "metadata": {},
   "source": [
    "![](../graphics/hart_and_duda-01.png)"
   ]
  },
  {
   "cell_type": "markdown",
   "metadata": {},
   "source": [
    "- In search for a solution, **Peter Hart** studied the first computer vision book (!), **Azriel Rosenfeld's Picture Processing by Computer.**\n",
    "- In this book, Rosenfeld briefly mentions the then obscure Hough patent, describing the tranformation algabraically for the first time, and posed a simple and computationally efficient method of implementing Hough's method. \n"
   ]
  },
  {
   "cell_type": "markdown",
   "metadata": {},
   "source": [
    "[Placeholder - Azriel Rosenfeld, Book, and relevant excerpt]"
   ]
  },
  {
   "cell_type": "markdown",
   "metadata": {},
   "source": [
    "- However, Rosenfeld does **not solve the intersection at $\\infty$ problem.**\n",
    "- Simultaneously, Hart was examining another appraoch that he thought may be helpful in pattern recognition - **integral geometry.** This approach didn't work, but he did pick up a potentially useful alternative parameterization of a line.\n",
    "- Let's have a look at this representation."
   ]
  },
  {
   "cell_type": "markdown",
   "metadata": {
    "collapsed": true
   },
   "source": [
    "![](../graphics/integral_geometry_line_a.png)"
   ]
  },
  {
   "cell_type": "markdown",
   "metadata": {},
   "source": [
    "- Instead of parameterizing our line with a slope and y-intercept, here we're parameterizing our line using $\\rho$ and $\\theta$.\n",
    "     - $\\rho$ is the distance from the origin to the closest point on our line\n",
    "     - $\\theta$ is the angle between the positive side of our x-axis and a the chord connecting the origin to our line at a right angle\n",
    "- Now that we've established this alternative line representation, we have an important little math puzzle to solve:"
   ]
  },
  {
   "cell_type": "markdown",
   "metadata": {},
   "source": [
    "# **What is the equation of our line in terms of $\\rho$ and $\\theta$ ?**"
   ]
  },
  {
   "cell_type": "markdown",
   "metadata": {
    "collapsed": true
   },
   "source": [
    "---"
   ]
  },
  {
   "cell_type": "markdown",
   "metadata": {
    "collapsed": true
   },
   "source": [
    "- Let's take this question one step at time. \n",
    "- First, we need a strategy. One strategy is to use our familiar parameterization of a line $y = mx +b$, and try to figure out our slope $m$ and our y-intercept $b$ in terms of our new parameters $\\rho$ and $\\theta$. "
   ]
  },
  {
   "cell_type": "markdown",
   "metadata": {
    "collapsed": true
   },
   "source": [
    "![](../graphics/hough_question_three-01.png)"
   ]
  },
  {
   "cell_type": "markdown",
   "metadata": {
    "collapsed": true
   },
   "source": [
    "---"
   ]
  },
  {
   "cell_type": "markdown",
   "metadata": {
    "collapsed": true
   },
   "source": [
    "![](../graphics/hough_question_four-01.png)"
   ]
  },
  {
   "cell_type": "markdown",
   "metadata": {
    "collapsed": true
   },
   "source": [
    "---"
   ]
  },
  {
   "cell_type": "markdown",
   "metadata": {},
   "source": [
    "![](../graphics/spacer_small.png)"
   ]
  },
  {
   "cell_type": "markdown",
   "metadata": {},
   "source": [
    "![](../graphics/spacer_small.png)"
   ]
  },
  {
   "cell_type": "markdown",
   "metadata": {},
   "source": [
    "Putting this all together, we have a new equation for a line in terms $\\rho$ and $\\theta$:\n",
    "\n",
    "## $$\n",
    "y = -\\frac{cos(\\theta)}{sin(\\theta)} x + \\frac{\\rho}{sin(\\theta)}\n",
    "$$\n",
    "\n",
    "We can re-arrange our new equation to make it a little more aesthetically pleasing:\n",
    "\n",
    "## $$\n",
    "\\rho = y sin(\\theta) + x cos(\\theta)\n",
    "$$"
   ]
  },
  {
   "cell_type": "markdown",
   "metadata": {},
   "source": [
    "Let's make sure the form of our line makes sense:"
   ]
  },
  {
   "cell_type": "markdown",
   "metadata": {
    "collapsed": true
   },
   "source": [
    "![](../graphics/hough_question_five-01.png)"
   ]
  },
  {
   "cell_type": "markdown",
   "metadata": {
    "collapsed": true
   },
   "source": [
    "___"
   ]
  },
  {
   "cell_type": "markdown",
   "metadata": {
    "collapsed": true
   },
   "source": [
    "Now, here's where it gets interesting. Hough used the common $y=mx+b$ representation of the line as the core of his transform, leading to an unbounded transform space. What Peter Hart saw here was a way to use this alternate representation of a line, $\\rho = y sin(\\theta) + x cos(\\theta)$, to tranform our data into a more useful version of Hough's original space. Let's have a look at this transform!"
   ]
  },
  {
   "cell_type": "code",
   "execution_count": 1,
   "metadata": {
    "collapsed": true
   },
   "outputs": [],
   "source": [
    "from IPython.display import Image, display\n",
    "from ipywidgets import interact\n",
    "\n",
    "def slide_show(slide_num=0):    \n",
    "    '''Make a little slide show in the notebook'''\n",
    "    display(Image('../graphics/hart_space/hart_space_' + str(slide_num) + '-01.png'))"
   ]
  },
  {
   "cell_type": "code",
   "execution_count": 2,
   "metadata": {},
   "outputs": [
    {
     "data": {
      "application/vnd.jupyter.widget-view+json": {
       "model_id": "3df6d6fad2814cfbb64234c36d1590fa",
       "version_major": 2,
       "version_minor": 0
      },
      "text/plain": [
       "A Jupyter Widget"
      ]
     },
     "metadata": {},
     "output_type": "display_data"
    }
   ],
   "source": [
    "interact(slide_show, slide_num = (0, 5));"
   ]
  },
  {
   "cell_type": "markdown",
   "metadata": {},
   "source": [
    "- Using this alternate from of the line, our points are now transformed into pieces of sinusoids. \n",
    "- As you may know, the sum of two sinusiods of the same variable is another sinusoid of the same variable. \n",
    "    - It's useful here to know a little trigonometry or be comfortable with Euler's formula. \n",
    "- The really cool thing here is that, just as co-linear points mapped to intersecting lines with Hough's tranform, **co-linear points points map to intersecting curves here**.\n",
    "- Now, this was true in Hough's original appraoch, remember that the real problem was that Hough's original space was unbounded - some co-linear points leds to lines that intersected at $\\infty$.\n",
    "- Let's see how our new space, introduced by Hart, handles this problem:"
   ]
  },
  {
   "cell_type": "markdown",
   "metadata": {},
   "source": [
    "![](../videos/hough_three.gif)"
   ]
  },
  {
   "cell_type": "markdown",
   "metadata": {},
   "source": [
    "- As you can see, in our $\\rho \\theta$ space, we see intersections for **both** horizontal and vertical lines.\n",
    "- In fact, we can represent $any$ line in $x, y$ space as a point in bounded $\\rho, \\theta$ space!\n",
    "- So we've turned our problem of finding interecting points into a problem of finding interecting **sinusoids.** and made some real progress!"
   ]
  },
  {
   "cell_type": "markdown",
   "metadata": {},
   "source": [
    "![](../graphics/spacer_small.png)"
   ]
  },
  {
   "cell_type": "markdown",
   "metadata": {},
   "source": [
    "## 1. How can we use the Hough Transform to **efficiently** find **noisy** colinear points?\n",
    "## <s> 2. How might we modify the Hough Transform to avoid having intersection points at infinity? <s>"
   ]
  },
  {
   "cell_type": "markdown",
   "metadata": {},
   "source": [
    "![](../graphics/spacer_small.png)"
   ]
  },
  {
   "cell_type": "markdown",
   "metadata": {},
   "source": [
    "- Ok, one down one to go!\n",
    "- Remember the whole idea here is to efficiently find noisy colinear points. This is what Hough set out to do for bubble chamber data, and what Hart and Duda needed to do to help shakey see make some sense of the world. \n",
    "- The answer to this problem comes not from Duda, Hart, or Hough, but from Azriel Rosenfeld, the author of the first computer vision book - Picture Processing by Computer. "
   ]
  },
  {
   "cell_type": "markdown",
   "metadata": {},
   "source": [
    "[Placeholder - Azriel Rosenfeld, Book, and relevant excerpt]"
   ]
  },
  {
   "cell_type": "code",
   "execution_count": 6,
   "metadata": {},
   "outputs": [],
   "source": [
    "def slide_show(slide_num=0):    \n",
    "    '''Make a little slide show in the notebook'''\n",
    "    display(Image('../graphics/hough_accumulator/hough_accumulator_' + str(slide_num) + '.png'))"
   ]
  },
  {
   "cell_type": "code",
   "execution_count": 7,
   "metadata": {},
   "outputs": [
    {
     "data": {
      "application/vnd.jupyter.widget-view+json": {
       "model_id": "acf184f273cc4a0c9a618a3e0f2e6b47",
       "version_major": 2,
       "version_minor": 0
      },
      "text/plain": [
       "A Jupyter Widget"
      ]
     },
     "metadata": {},
     "output_type": "display_data"
    }
   ],
   "source": [
    "interact(slide_show, slide_num = (1, 3));"
   ]
  },
  {
   "cell_type": "markdown",
   "metadata": {},
   "source": [
    "- Rosenfeld's presented a smart solution here - he first quantized the $\\rho$, $\\theta$ space into a grid\n",
    "- Each cell in the grid represents an \"accumulator\".\n",
    "- For each point in our image space $xy$, we map that point to a curver in $\\rho \\theta$ space, and increment the accumulator of each cell we pass through.\n",
    "- Rosenfeld's solution is quite powerful. By giving up some accuracy, we're able to quickly compute an answer, and our quantization actualy makes our line detector **less susceptable to noise!** "
   ]
  },
  {
   "cell_type": "markdown",
   "metadata": {
    "collapsed": true
   },
   "source": [
    "From [Wikipedia Hough Transform Article](https://en.wikipedia.org/wiki/Hough_transform): \n",
    "\n",
    "> *The purpose of the technique is to find imperfect instances of objects within a certain class of shapes by a voting procedure. This voting procedure is carried out in a parameter space, from which object candidates are obtained as local maxima in a so-called accumulator space that is explicitly constructed by the algorithm for computing the Hough transform.*\n"
   ]
  },
  {
   "cell_type": "code",
   "execution_count": null,
   "metadata": {
    "collapsed": true
   },
   "outputs": [],
   "source": []
  },
  {
   "cell_type": "code",
   "execution_count": null,
   "metadata": {
    "collapsed": true
   },
   "outputs": [],
   "source": []
  },
  {
   "cell_type": "code",
   "execution_count": null,
   "metadata": {
    "collapsed": true
   },
   "outputs": [],
   "source": []
  },
  {
   "cell_type": "code",
   "execution_count": null,
   "metadata": {
    "collapsed": true
   },
   "outputs": [],
   "source": []
  }
 ],
 "metadata": {
  "kernelspec": {
   "display_name": "Python 3",
   "language": "python",
   "name": "python3"
  },
  "language_info": {
   "codemirror_mode": {
    "name": "ipython",
    "version": 3
   },
   "file_extension": ".py",
   "mimetype": "text/x-python",
   "name": "python",
   "nbconvert_exporter": "python",
   "pygments_lexer": "ipython3",
   "version": "3.6.3"
  }
 },
 "nbformat": 4,
 "nbformat_minor": 2
}

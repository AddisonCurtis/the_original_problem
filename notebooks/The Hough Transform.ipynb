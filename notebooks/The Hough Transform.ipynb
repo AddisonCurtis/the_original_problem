{
 "cells": [
  {
   "cell_type": "markdown",
   "metadata": {},
   "source": [
    "# **The Hough Transform**"
   ]
  },
  {
   "cell_type": "markdown",
   "metadata": {},
   "source": [
    "**Recommended Reading/Viewing:**\n",
    "\n",
    "1. Placeholder\n",
    "\n",
    "**Additional Reading**\n",
    "1. Placeholder\n",
    "\n",
    "**Recommended [Jupyter Theme](https://github.com/dunovank/jupyter-themes) for presenting this notebook:**\n",
    "````\n",
    "jt -t grade3 -cellw=90% -fs=20 -tfs=20 -ofs=20\n",
    "````"
   ]
  },
  {
   "cell_type": "markdown",
   "metadata": {},
   "source": [
    "---"
   ]
  },
  {
   "cell_type": "markdown",
   "metadata": {},
   "source": [
    "![](../graphics/the_bubble_chamber-01.png)"
   ]
  },
  {
   "cell_type": "markdown",
   "metadata": {},
   "source": [
    "- In 1952 [Donald A. Glaser](https://en.wikipedia.org/wiki/Donald_A._Glaser) invented a new tool for studying partical physics - the **[bubble chamber](https://en.wikipedia.org/wiki/Bubble_chamber)**. \n",
    "    - Glaser was awarded the Nobel Prize in 1960 for his invention.\n",
    "- The bubble chamber worked by tracing the bubbles formed by charged particles moving through a superheated liquid. \n",
    "- Physicist took pictures of the bubbles as particles moved through the chamber using multiple cameras mounted around the bubble chamber.\n",
    "- By analyzing the the radius of curvature of the bubbles, physicist could infer the momentum of individual particles.\n",
    "- Bubble chambers and the data they produce have allowed physicist to make some pretty incredible discoveries, such as **weak neutral currents** - [Nice video from 60 symbols](https://www.youtube.com/watch?v=basLNz6frO8)"
   ]
  },
  {
   "cell_type": "markdown",
   "metadata": {},
   "source": [
    "---"
   ]
  },
  {
   "cell_type": "markdown",
   "metadata": {},
   "source": [
    "# ** A Minor Problem with the Bubble Chamber **"
   ]
  },
  {
   "cell_type": "markdown",
   "metadata": {},
   "source": [
    "![](../videos/bubble_chamber_0.gif)"
   ]
  },
  {
   "cell_type": "markdown",
   "metadata": {
    "collapsed": true
   },
   "source": [
    "- One issue with the bubble chamber was handling sheer volume of data it produced. [Fun Talk from Paul Hough on the bubble chamber](https://www.osti.gov/servlets/purl/4805882).\n",
    "- In the early 1950s, **Paul Hough**, a recent Cornell PhD graduate joined Donald Glaser, the inventor of the Bubble Chamber, at the University of Michigan. \n",
    "- "
   ]
  },
  {
   "cell_type": "code",
   "execution_count": null,
   "metadata": {
    "collapsed": true
   },
   "outputs": [],
   "source": []
  }
 ],
 "metadata": {
  "kernelspec": {
   "display_name": "Python 3",
   "language": "python",
   "name": "python3"
  },
  "language_info": {
   "codemirror_mode": {
    "name": "ipython",
    "version": 3
   },
   "file_extension": ".py",
   "mimetype": "text/x-python",
   "name": "python",
   "nbconvert_exporter": "python",
   "pygments_lexer": "ipython3",
   "version": "3.6.3"
  }
 },
 "nbformat": 4,
 "nbformat_minor": 2
}

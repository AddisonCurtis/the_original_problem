{
 "cells": [
  {
   "cell_type": "markdown",
   "metadata": {},
   "source": [
    "# **A Little about Python and Jupyter**\n"
   ]
  },
  {
   "cell_type": "markdown",
   "metadata": {
    "collapsed": true
   },
   "source": [
    "**Additional Reading**\n",
    "1. [Scientific Python Introduction](http://hplgit.github.io/bumpy/doc/pub/basics.html)\n",
    "\n",
    "Recommended [Jupyter Theme](https://github.com/dunovank/jupyter-themes) for presenting this notebook:\n",
    "````\n",
    "jt -t grade3 -cellw=90% -fs=20 -tfs=20 -ofs=20\n",
    "````"
   ]
  },
  {
   "cell_type": "markdown",
   "metadata": {},
   "source": [
    "![](../graphics/spacer_small.png)"
   ]
  },
  {
   "cell_type": "markdown",
   "metadata": {},
   "source": [
    "** Reusing Code**\n",
    "- Often, we will want to reuse methods from one notebook to the next.\n",
    "- We could copy + paste these methods into this notebook, but a better appraoch is to create a python module in a seperate .py file that holds commonly used code. \n",
    "- You may have noticed the \"util\" directory in this repo:"
   ]
  },
  {
   "cell_type": "code",
   "execution_count": 3,
   "metadata": {},
   "outputs": [
    {
     "name": "stdout",
     "output_type": "stream",
     "text": [
      "README.md         \u001b[34mdata\u001b[m\u001b[m/             \u001b[34mnotebooks\u001b[m\u001b[m/        \u001b[34mutil\u001b[m\u001b[m/\r\n",
      "\u001b[34m__MACOSX\u001b[m\u001b[m/         \u001b[34mdeprecated\u001b[m\u001b[m/       \u001b[34mpapers\u001b[m\u001b[m/           \u001b[34mvideos\u001b[m\u001b[m/\r\n",
      "\u001b[34mchallenge\u001b[m\u001b[m/        \u001b[34mgraphics\u001b[m\u001b[m/         requirements.txt\r\n"
     ]
    }
   ],
   "source": [
    "ls .."
   ]
  },
  {
   "cell_type": "markdown",
   "metadata": {},
   "source": [
    "It contains a serveral python modules that contain the various methods we'll develop in the module:"
   ]
  },
  {
   "cell_type": "code",
   "execution_count": 5,
   "metadata": {},
   "outputs": [
    {
     "name": "stdout",
     "output_type": "stream",
     "text": [
      "../util/filters.py         ../util/image.py\r\n",
      "../util/get_and_unpack.py\r\n",
      "\r\n",
      "../util/__pycache__:\r\n",
      "filters.cpython-36.pyc         image.cpython-36.pyc\r\n",
      "get_and_unpack.cpython-36.pyc\r\n"
     ]
    }
   ],
   "source": [
    "ls ../util/*"
   ]
  },
  {
   "cell_type": "markdown",
   "metadata": {},
   "source": [
    "- Let's go have a look at one of these .py files in a text editor. \n",
    "- Here's how to import sepcific methods from .py files. "
   ]
  },
  {
   "cell_type": "code",
   "execution_count": 17,
   "metadata": {
    "collapsed": true
   },
   "outputs": [],
   "source": [
    "# First, since our util directory is in our top-level directory, to access \n",
    "## these files, we need to add the top-level repo direcotry to our path.\n",
    "import sys\n",
    "sys.path.append('..')"
   ]
  },
  {
   "cell_type": "code",
   "execution_count": 18,
   "metadata": {},
   "outputs": [],
   "source": [
    "#We can now import methods from our util directory\n",
    "from util.image import convert_to_grayscale"
   ]
  },
  {
   "cell_type": "markdown",
   "metadata": {},
   "source": [
    "While we're at it, let's look a few nice notebook features. We can see the docstring of the methods we're using right in the notebook by adding a question mark to the end of method or class names:"
   ]
  },
  {
   "cell_type": "code",
   "execution_count": 19,
   "metadata": {
    "collapsed": true
   },
   "outputs": [],
   "source": [
    "convert_to_grayscale?"
   ]
  },
  {
   "cell_type": "markdown",
   "metadata": {},
   "source": [
    "![](../graphics/spacer_small.png)"
   ]
  },
  {
   "cell_type": "markdown",
   "metadata": {},
   "source": [
    "**Some nice notebook features**"
   ]
  },
  {
   "cell_type": "markdown",
   "metadata": {},
   "source": [
    "Another nice feature: Press **Shift+Tab** with your cursor inside a methods parenthesis to see it's arguments. "
   ]
  },
  {
   "cell_type": "markdown",
   "metadata": {},
   "source": [
    "![](graphics/spacer_small.png)"
   ]
  },
  {
   "cell_type": "markdown",
   "metadata": {},
   "source": [
    "![](../videos/shift_tab.gif)"
   ]
  },
  {
   "cell_type": "markdown",
   "metadata": {},
   "source": [
    "![](graphics/spacer_small.png)"
   ]
  },
  {
   "cell_type": "markdown",
   "metadata": {},
   "source": [
    "And finally, you can access search all commands using the command pallate:\n",
    "- **(cmnd + shift + p)** on mac\n",
    "- **(ctrl + shift + p)** on linux/windows\n",
    "\n",
    "And to view all keyboard shortucts press **esc** then **h.**"
   ]
  },
  {
   "cell_type": "markdown",
   "metadata": {},
   "source": [
    "![](../videos/jupyter_shortcuts.gif)"
   ]
  },
  {
   "cell_type": "markdown",
   "metadata": {},
   "source": [
    "**One more thing about importing python modules**\n",
    "\n",
    "- Modules are compiled on import. \n",
    "- If we poke around our util director after import, we see that each python file is compiled into it's own .pyc in a python automatically generated directory called \\__pycache__"
   ]
  },
  {
   "cell_type": "code",
   "execution_count": 21,
   "metadata": {},
   "outputs": [
    {
     "name": "stdout",
     "output_type": "stream",
     "text": [
      "\u001b[34m__pycache__\u001b[m\u001b[m/       filters.py         get_and_unpack.py  image.py\r\n"
     ]
    }
   ],
   "source": [
    "ls ../util*"
   ]
  },
  {
   "cell_type": "code",
   "execution_count": 22,
   "metadata": {},
   "outputs": [
    {
     "name": "stdout",
     "output_type": "stream",
     "text": [
      "filters.cpython-36.pyc         image.cpython-36.pyc\r\n",
      "get_and_unpack.cpython-36.pyc\r\n"
     ]
    }
   ],
   "source": [
    "ls ../util/__pycache__/"
   ]
  },
  {
   "cell_type": "markdown",
   "metadata": {},
   "source": [
    "- The important thing to note here is that if you make a change to a .py file, the results of this change will not actually show up **until you reimport the module**, recompiling the .py into .pyc.\n",
    "- Generally, I'll just run \"Restart and Run All\" from the Kernel dropdown menu when I make a module change. \n",
    "- **Quick Demo:**"
   ]
  },
  {
   "cell_type": "code",
   "execution_count": 24,
   "metadata": {
    "collapsed": true
   },
   "outputs": [],
   "source": [
    "#import a test image:\n",
    "im = imread('../data/medium_2/ball/ball_3.jpg')"
   ]
  },
  {
   "cell_type": "code",
   "execution_count": 25,
   "metadata": {},
   "outputs": [],
   "source": [
    "gray = convert_to_grayscale(im/255.)"
   ]
  },
  {
   "cell_type": "markdown",
   "metadata": {},
   "source": [
    "![](graphics/spacer_small.png)"
   ]
  },
  {
   "cell_type": "markdown",
   "metadata": {},
   "source": [
    "![](../graphics/spacer_small.png)"
   ]
  },
  {
   "cell_type": "markdown",
   "metadata": {
    "collapsed": true
   },
   "source": [
    "** A little bit about scientific python**"
   ]
  },
  {
   "cell_type": "markdown",
   "metadata": {},
   "source": [
    "Python is an incredibly tool for science + engineering. It's one of the easiest languages to learn, but incredibly powerful, especially thanks to packages like numpy, libraries such as opencv, and frameworks like tensorflow. There are lots of great resources on python and scientific python out there - these are terrific. If your new or learning python, I also encourage you to just try things. Python is a friendly enough language that usually after hacking around a bit, plus some help from google and stack overflow, you can figure out what you need."
   ]
  }
 ],
 "metadata": {
  "kernelspec": {
   "display_name": "Python 3",
   "language": "python",
   "name": "python3"
  },
  "language_info": {
   "codemirror_mode": {
    "name": "ipython",
    "version": 3
   },
   "file_extension": ".py",
   "mimetype": "text/x-python",
   "name": "python",
   "nbconvert_exporter": "python",
   "pygments_lexer": "ipython3",
   "version": "3.6.3"
  }
 },
 "nbformat": 4,
 "nbformat_minor": 2
}

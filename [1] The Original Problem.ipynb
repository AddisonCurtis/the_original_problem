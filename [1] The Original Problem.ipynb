{
 "cells": [
  {
   "cell_type": "markdown",
   "metadata": {},
   "source": [
    "# **The Original Problem**"
   ]
  },
  {
   "cell_type": "markdown",
   "metadata": {},
   "source": [
    "- Stephen Welch\n",
    "- UNCC Computer Vision"
   ]
  },
  {
   "cell_type": "markdown",
   "metadata": {},
   "source": [
    "Recommended [Jupyter Theme](https://github.com/dunovank/jupyter-themes) for this notebook:\n",
    "````\n",
    "jt -t grade3 -cellw=90% -fs=20 -tfs=20 -ofs=20\n",
    "````"
   ]
  },
  {
   "cell_type": "markdown",
   "metadata": {},
   "source": [
    "(Optional) Download data + videos if you don't have them."
   ]
  },
  {
   "cell_type": "code",
   "execution_count": 4,
   "metadata": {
    "collapsed": true
   },
   "outputs": [],
   "source": [
    "import os\n",
    "from util.get_and_unpack import get_and_unpack\n",
    "\n",
    "if not os.path.isdir('data/'):\n",
    "    url = 'http://www.welchlabs.io/unccv/the_original_problem/data/data.zip'\n",
    "    get_and_unpack(url)\n",
    "    \n",
    "if not os.path.isdir('videos/'):\n",
    "    url = 'http://www.welchlabs.io/unccv/the_original_problem/videos.zip'\n",
    "    get_and_unpack(url)   "
   ]
  },
  {
   "cell_type": "markdown",
   "metadata": {
    "collapsed": true
   },
   "source": [
    "![](graphics/original_mit_crew-01.png)"
   ]
  },
  {
   "cell_type": "markdown",
   "metadata": {},
   "source": [
    "![](graphics/spacer_small.png)"
   ]
  },
  {
   "cell_type": "markdown",
   "metadata": {},
   "source": [
    "# **The Original Problem**"
   ]
  },
  {
   "cell_type": "markdown",
   "metadata": {},
   "source": [
    "The thing we're going to learn about in this course, **computer vision**, has a very interesting history. It's roots really go all the way back to the beginning of computing and **artifical intelligence.** When this course is over, I want you to understand where we **really** are today, how we got here, and be able to make some reasonable conjectures about where the field is going next. \n",
    "\n",
    "I want you to be comfortable with cutting edge deep learning techniques, but also understand the broader context to which they belong. I want you to really understand why it's so deceptively difficult to program a computer to anything remotely close to what our visual cortex does. \n",
    "\n",
    "To acheive this, we need to go back to the beginning. Not the very beginning, but pretty close. We need to go back to MIT in the summer of 1966 and visit the **Artifical Intelligence Group.**"
   ]
  },
  {
   "cell_type": "markdown",
   "metadata": {},
   "source": [
    "![](graphics/original_mit_crew-01.png)"
   ]
  },
  {
   "cell_type": "markdown",
   "metadata": {},
   "source": [
    "In the summer of 1966, Marvin Minsky and Seymour Papert, co-directors of the MIT AI Labratory, launched an ambitious summer project. "
   ]
  },
  {
   "cell_type": "markdown",
   "metadata": {},
   "source": [
    "![](graphics/summer_project_abstract-01.png)"
   ]
  },
  {
   "cell_type": "markdown",
   "metadata": {},
   "source": [
    "___"
   ]
  },
  {
   "cell_type": "markdown",
   "metadata": {},
   "source": [
    "![](graphics/summer_project_goals-01.png)"
   ]
  },
  {
   "cell_type": "markdown",
   "metadata": {},
   "source": [
    "The goals of the summer project included localizing + classifying objects in images. **Easy, right?** A 2 year old can do this. In the spirit of the summer project, let's look at some data."
   ]
  },
  {
   "cell_type": "markdown",
   "metadata": {},
   "source": [
    "![](videos/brick_ball_cylinder.gif)"
   ]
  },
  {
   "cell_type": "markdown",
   "metadata": {},
   "source": [
    "# Can you write code to tell these apart?\n",
    "\n",
    "- What about localizing these objects in the image?\n",
    "- 50 years ago, some of the smartest folks in AI thought they could do this in a summer - **let's try it today.**\n",
    "- Your job over the next 2 weeks is to create your own solution to the MIT Summer Vision Project.\n",
    "- Over the next week or so, we'll discuss 3 big ideas in computer vision: \n",
    "    - Edges\n",
    "    - Corners\n",
    "    - Hough Transform\n",
    "- We have a huge advantage over the MIT team becuase we have way better tools. We'll limit ourselves a little to **python and numpy**. (no opencv, sklearn, tensorflow, that will all come later). "
   ]
  },
  {
   "cell_type": "markdown",
   "metadata": {},
   "source": [
    "[Animation of the three tools we'll learn]"
   ]
  },
  {
   "cell_type": "markdown",
   "metadata": {},
   "source": [
    "[Graphic showing progression of the software tools we'll use in the course]"
   ]
  },
  {
   "cell_type": "markdown",
   "metadata": {},
   "source": [
    "[Images of the (3) datasets of increasing difficulty we'll use?]\n",
    "[We should really go ahead and setup the challenge criteriea here]"
   ]
  },
  {
   "cell_type": "code",
   "execution_count": null,
   "metadata": {
    "collapsed": true
   },
   "outputs": [],
   "source": []
  }
 ],
 "metadata": {
  "kernelspec": {
   "display_name": "Python 3",
   "language": "python",
   "name": "python3"
  },
  "language_info": {
   "codemirror_mode": {
    "name": "ipython",
    "version": 3
   },
   "file_extension": ".py",
   "mimetype": "text/x-python",
   "name": "python",
   "nbconvert_exporter": "python",
   "pygments_lexer": "ipython3",
   "version": "3.6.3"
  }
 },
 "nbformat": 4,
 "nbformat_minor": 2
}
